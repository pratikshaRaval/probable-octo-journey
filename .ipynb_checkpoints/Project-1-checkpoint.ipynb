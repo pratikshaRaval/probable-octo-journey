{
 "cells": [
  {
   "cell_type": "markdown",
   "metadata": {},
   "source": [
    "## Project-1\n",
    "\n",
    "Team: Group_Dnyanai_Surkutwar_Resham_Uttamchandani_Mukesh_Ganesh\n"
    "Team members: 1) Dnyanai Surkutwar 00001586576\n", 2) "Mukesh Ganesh 00001586388\n"
    "\n",
    "\n",
    "Project Objective: 1) From 4 options, take user input on menu choice(usrIn) then a natural number(usrNo)\n",
    "                   2) Based on the menu input, perform 1 - Fibonacci series on the given userNo (Generate a fibonacci series till the user given number)\n",
    "                   3) For the given number, print \"Fizz\" if its a multiple of 3, \"Buzz\" if a multiple of 5 and \"FizzBuzz\" if a multiple of 15\n",
    "                   4) Generate random numbers list of user given length in the range [-50,50]\n",
    "                   5) Press '0' for exiting."
   ]
  },
  {
   "cell_type": "markdown",
   "metadata": {},
   "source": [
    "##### Option 1 Function: Fibonacci Series till the usrNo (user Input) "
   ]
  },
  {
   "cell_type": "code",
   "execution_count": null,
   "metadata": {},
   "outputs": [],
   "source": [
    "def funcFib():\n",
    "    \n",
    "    while True:\n",
    "        usrNo = input(\"Give the number (n):\")\n",
    "        if usrNo.isnumeric() and int(usrNo)!=0:\n",
    "            break\n",
    "        else: \n",
    "            print(\"Invalid number, please put only natural numbers\")\n",
    "            \n",
    "    no1,no2 = 0,1 \n",
    "    count = 0\n",
    "    \n",
    "    if int(usrNo)==1:\n",
    "        print (usrNo)\n",
    "    else:\n",
    "        while count<int(usrNo):\n",
    "            print (no1)\n",
    "            nNo = no1 + no2\n",
    "            no1 = no2\n",
    "            no2 = nNo\n",
    "            count += 1\n"
   ]
  },
  {
   "cell_type": "markdown",
   "metadata": {},
   "source": [
    "##### Option 2 Function:  Till the usrNo (user Input), print \"Fizz\" for multiples of 3, \"Buzz\" for multiples of 5, \"FizzBuzz\" for multiples of 15 "
   ]
  },
  {
   "cell_type": "code",
   "execution_count": 3,
   "metadata": {},
   "outputs": [],
   "source": [
    "def funcMul():\n",
    "    while True:\n",
    "        usrNo = input(\"Give the number (n):\")\n",
    "        if usrNo.isnumeric() and int(usrNo)!=0:\n",
    "            break\n",
    "        else: \n",
    "            print(\"Invalid number, please put only natural numbers\")\n",
    "        \n",
    "    for i in range(1,int(usrNo),1):\n",
    "            if  not i%15:\n",
    "                print (\"FizzBuzz\")\n",
    "            elif not i%5:\n",
    "                print (\"Buzz\")\n",
    "            elif not i%3:\n",
    "                print (\"Fizz\")\n",
    "            else:\n",
    "                print (i)\n"
   ]
  },
  {
   "cell_type": "markdown",
   "metadata": {},
   "source": [
    "##### Option 3 Function: Fibonacci Series till the usrNo (user Input) "
   ]
  },
  {
   "cell_type": "code",
   "execution_count": 4,
   "metadata": {},
   "outputs": [],
   "source": [
    "def funcPrm():\n",
    "    while True:\n",
    "        usrNo = input(\"Give the number (n):\")\n",
    "        if usrNo.isnumeric() and int(usrNo)!=0:\n",
    "            print (str(primerange(1,int(usrNo)))) \n",
    "            break\n",
    "    \n",
    "    else: \n",
    "            print(\"Invalid number, please put only natural numbers\")\n",
    "        \n"
   ]
  },
  {
   "cell_type": "markdown",
   "metadata": {},
   "source": [
    "##### Option 4 Function: Generate random numbers list of length usrNo (user Input) in the range -50 to 50 "
   ]
  },
  {
   "cell_type": "code",
   "execution_count": 5,
   "metadata": {},
   "outputs": [],
   "source": [
    "def funcRnd():\n",
    "    while True:\n",
    "        usrNo = input(\"Give the number (n):\")\n",
    "        if usrNo.isnumeric() and int(usrNo)!=0 and int(usrNo)<=101:\n",
    "            \n",
    "            break\n",
    "        else: \n",
    "            print(\"Invalid number, please put only natural numbers\")\n",
    "            \n",
    "   \n",
    "    lst = []\n",
    "\n",
    "    for x in range(int(usrNo)):\n",
    "        lst.append(random.randint(-50,50))\n",
    "\n",
    "    print (lst)\n"
   ]
  },
  {
   "cell_type": "markdown",
   "metadata": {},
   "source": [
    "##### Option 0 Function: Exit the program "
   ]
  },
  {
   "cell_type": "code",
   "execution_count": 6,
   "metadata": {},
   "outputs": [],
   "source": [
    "def funcExit():\n",
    "    print(\"Exiting...\")\n"
   ]
  },
  {
   "cell_type": "code",
   "execution_count": null,
   "metadata": {},
   "outputs": [
    {
     "name": "stdout",
     "output_type": "stream",
     "text": [
      "____________________________________________________________________________________________________\n",
      "Option 1: Fibonacci Series\n",
      "Option 2: Multiples of 3, 5 and both\n",
      "Option 3: Print the prime numbers \n",
      "Option 4: Print random number list of length n\n",
      "Please give an option from the above menu or press 0 to exit: 2\n",
      "____________________________________________________________________________________________________\n",
      "Option 1: Fibonacci Series\n",
      "Option 2: Multiples of 3, 5 and both\n",
      "Option 3: Print the prime numbers \n",
      "Option 4: Print random number list of length n\n"
     ]
    }
   ],
   "source": [
    "\"\"\"\n",
    "Creating a dictonary for the menu options. Dictonary Keys as the option number and function names as their values.   \n",
    "Declaring a choice variable to control the loop which needs to be infinite unless user inputs '0' from the menu. \n",
    "\n",
    "\"\"\"\n",
    "\n",
    "dictMenu = {'1':funcFib,'2':funcMul,'3': funcPrm,'4':funcRnd,'0': funcExit}\n",
    " \n",
    "goodChoice = True\n",
    "\n",
    "\n",
    "while goodChoice:\n",
    "\n",
    "    print (\"_\"*100 + \"\\nOption 1: Fibonacci Series\\nOption 2: Multiples of 3, 5 and both\\nOption 3: Print the prime numbers \\nOption 4: Print random number list of length n\")\n",
    "    \n",
    "    while True:\n",
    "        usrIn = input(\"Please give an option from the above menu or press 0 to exit: \")\n",
    "        #User input validation: Check for verifying usrIn is a natural Number \n",
    "        if usrIn.isnumeric():\n",
    "            break\n",
    "        else:\n",
    "            print (\"Please select the correct menu option\")\n",
    "\n",
    "        #\n",
    "        if usrIn in dictMenu.keys():\n",
    "            if int(usrIn)==0:\n",
    "                dictMenu[usrIn]()\n",
    "                break\n",
    "            else:\n",
    "                dictMenu[usrIn]()\n",
    "        else:\n",
    "                print(\"Please give proper choice\")\n"
   ]
  },
  {
   "cell_type": "code",
   "execution_count": null,
   "metadata": {},
   "outputs": [],
   "source": []
  }
 ],
 "metadata": {
  "kernelspec": {
   "display_name": "Python 3",
   "language": "python",
   "name": "python3"
  },
  "language_info": {
   "codemirror_mode": {
    "name": "ipython",
    "version": 3
   },
   "file_extension": ".py",
   "mimetype": "text/x-python",
   "name": "python",
   "nbconvert_exporter": "python",
   "pygments_lexer": "ipython3",
   "version": "3.7.4"
  }
 },
 "nbformat": 4,
 "nbformat_minor": 2
}
